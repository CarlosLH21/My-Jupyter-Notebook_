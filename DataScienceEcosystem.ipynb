{
 "cells": [
  {
   "cell_type": "markdown",
   "id": "42aefde8-871e-448c-8878-aac1d4498610",
   "metadata": {},
   "source": [
    "# Data Science Tools and Ecosystem"
   ]
  },
  {
   "cell_type": "markdown",
   "id": "f0034a67-88e1-4670-b0ca-7f4260a1c392",
   "metadata": {},
   "source": [
    "In this notebook, Data Science Tools and Ecosystem are summarized."
   ]
  },
  {
   "cell_type": "markdown",
   "id": "ea6e93e7-8ca2-45e6-9353-3e2253b23624",
   "metadata": {},
   "source": [
    "**Objetives:**\n",
    "- List popular languages for Data Science\n",
    "- Recognize different types and categories of tools used by data scientists, including open-source, cloud-based, and commercial options\n",
    "- Identify common libraries used in Data Science and understand APIs and REST requests/responses\n",
    "- Explore open datasets in the Data Asset eXchange and learn to use a machine learning model to solve a problem\n",
    "- Understand version control systems and distributed version control (DVCS)"
   ]
  },
  {
   "cell_type": "markdown",
   "id": "81500eca-2165-42ba-bef8-f395c0c6b3c3",
   "metadata": {},
   "source": [
    "Some of the popular languages that Data Scientists use are:\n",
    "1. Python\n",
    "2. R\n",
    "3. SQL\n",
    "4. Java\n",
    "5. Julia"
   ]
  },
  {
   "cell_type": "markdown",
   "id": "66641f20-37de-4bce-8a6e-89e89d76d7fa",
   "metadata": {},
   "source": [
    "Some of the commonly used libraries used by Data Scientists include:\n",
    "\n",
    "1. Pandas\n",
    "2. NumPy\n",
    "3. Matplotlib\n",
    "4. ggplot2\n",
    "5. dplyr"
   ]
  },
  {
   "cell_type": "markdown",
   "id": "77253614-b928-43e1-8a30-8bcfb68eedf1",
   "metadata": {},
   "source": [
    "| Data Science Tools |\n",
    "|----------------------------------|\n",
    "| Jupyter Notebook                |\n",
    "| RStudio                         |\n",
    "| Visual Studio Code              |\n"
   ]
  },
  {
   "cell_type": "markdown",
   "id": "7efe081b-0a99-415c-9761-0d65c616a602",
   "metadata": {},
   "source": [
    "### Below are a few examples of evaluating arithmetic expressions in Python"
   ]
  },
  {
   "cell_type": "code",
   "execution_count": 12,
   "id": "ed137a0e-8818-445a-a5a1-b9a0f3db7411",
   "metadata": {},
   "outputs": [
    {
     "data": {
      "text/plain": [
       "17"
      ]
     },
     "execution_count": 12,
     "metadata": {},
     "output_type": "execute_result"
    }
   ],
   "source": [
    "# This is a simple arithmetic expression to multiply then add integers\n",
    "(3 * 4) + 5"
   ]
  },
  {
   "cell_type": "code",
   "execution_count": 14,
   "id": "20f396c8-db7c-4eaf-8851-5d39d95c3e55",
   "metadata": {},
   "outputs": [
    {
     "data": {
      "text/plain": [
       "3.3333333333333335"
      ]
     },
     "execution_count": 14,
     "metadata": {},
     "output_type": "execute_result"
    }
   ],
   "source": [
    "# This will convert 200 minutes to hours by diving by 60\n",
    "200 / 60"
   ]
  },
  {
   "cell_type": "markdown",
   "id": "af68d924-7d71-4e09-add7-560d17a01750",
   "metadata": {},
   "source": [
    "## Author\n",
    "Carlos Lipe"
   ]
  },
  {
   "cell_type": "code",
   "execution_count": null,
   "id": "d472beaf-0ef8-4527-92bd-9dcad0e9fd88",
   "metadata": {},
   "outputs": [],
   "source": []
  }
 ],
 "metadata": {
  "kernelspec": {
   "display_name": "Python [conda env:base] *",
   "language": "python",
   "name": "conda-base-py"
  },
  "language_info": {
   "codemirror_mode": {
    "name": "ipython",
    "version": 3
   },
   "file_extension": ".py",
   "mimetype": "text/x-python",
   "name": "python",
   "nbconvert_exporter": "python",
   "pygments_lexer": "ipython3",
   "version": "3.12.7"
  }
 },
 "nbformat": 4,
 "nbformat_minor": 5
}
